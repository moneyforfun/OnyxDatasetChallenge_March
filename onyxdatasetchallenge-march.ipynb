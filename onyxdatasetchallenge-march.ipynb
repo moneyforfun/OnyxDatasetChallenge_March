{
 "cells": [
  {
   "cell_type": "code",
   "execution_count": 1,
   "id": "aa014b91",
   "metadata": {
    "_cell_guid": "b1076dfc-b9ad-4769-8c92-a6c4dae69d19",
    "_uuid": "8f2839f25d086af736a60e9eeb907d3b93b6e0e5",
    "execution": {
     "iopub.execute_input": "2024-03-18T08:56:35.370974Z",
     "iopub.status.busy": "2024-03-18T08:56:35.370193Z",
     "iopub.status.idle": "2024-03-18T08:56:36.490215Z",
     "shell.execute_reply": "2024-03-18T08:56:36.488971Z"
    },
    "papermill": {
     "duration": 1.131608,
     "end_time": "2024-03-18T08:56:36.493637",
     "exception": false,
     "start_time": "2024-03-18T08:56:35.362029",
     "status": "completed"
    },
    "tags": []
   },
   "outputs": [
    {
     "name": "stdout",
     "output_type": "stream",
     "text": [
      "/kaggle/input/ebay-sales/Onyx Data -DataDNA Dataset Challenge - eBay Used Car Sales -March 2024.xlsx\n"
     ]
    }
   ],
   "source": [
    "# This Python 3 environment comes with many helpful analytics libraries installed\n",
    "# It is defined by the kaggle/python Docker image: https://github.com/kaggle/docker-python\n",
    "# For example, here's several helpful packages to load\n",
    "\n",
    "import numpy as np # linear algebra\n",
    "import pandas as pd # data processing, CSV file I/O (e.g. pd.read_csv)\n",
    "\n",
    "# Input data files are available in the read-only \"../input/\" directory\n",
    "# For example, running this (by clicking run or pressing Shift+Enter) will list all files under the input directory\n",
    "\n",
    "import os\n",
    "for dirname, _, filenames in os.walk('/kaggle/input'):\n",
    "    for filename in filenames:\n",
    "        print(os.path.join(dirname, filename))\n",
    "\n",
    "# You can write up to 20GB to the current directory (/kaggle/working/) that gets preserved as output when you create a version using \"Save & Run All\" \n",
    "# You can also write temporary files to /kaggle/temp/, but they won't be saved outside of the current session"
   ]
  },
  {
   "cell_type": "code",
   "execution_count": 2,
   "id": "016ce267",
   "metadata": {
    "execution": {
     "iopub.execute_input": "2024-03-18T08:56:36.507387Z",
     "iopub.status.busy": "2024-03-18T08:56:36.506553Z",
     "iopub.status.idle": "2024-03-18T08:56:36.510980Z",
     "shell.execute_reply": "2024-03-18T08:56:36.510117Z"
    },
    "papermill": {
     "duration": 0.013867,
     "end_time": "2024-03-18T08:56:36.513332",
     "exception": false,
     "start_time": "2024-03-18T08:56:36.499465",
     "status": "completed"
    },
    "tags": []
   },
   "outputs": [],
   "source": [
    "import pandas as pd\n",
    "import numpy as np"
   ]
  },
  {
   "cell_type": "code",
   "execution_count": 3,
   "id": "d730f19b",
   "metadata": {
    "execution": {
     "iopub.execute_input": "2024-03-18T08:56:36.525685Z",
     "iopub.status.busy": "2024-03-18T08:56:36.525309Z",
     "iopub.status.idle": "2024-03-18T08:59:54.331456Z",
     "shell.execute_reply": "2024-03-18T08:59:54.330152Z"
    },
    "papermill": {
     "duration": 197.824427,
     "end_time": "2024-03-18T08:59:54.343013",
     "exception": false,
     "start_time": "2024-03-18T08:56:36.518586",
     "status": "completed"
    },
    "tags": []
   },
   "outputs": [
    {
     "data": {
      "text/html": [
       "<div>\n",
       "<style scoped>\n",
       "    .dataframe tbody tr th:only-of-type {\n",
       "        vertical-align: middle;\n",
       "    }\n",
       "\n",
       "    .dataframe tbody tr th {\n",
       "        vertical-align: top;\n",
       "    }\n",
       "\n",
       "    .dataframe thead th {\n",
       "        text-align: right;\n",
       "    }\n",
       "</style>\n",
       "<table border=\"1\" class=\"dataframe\">\n",
       "  <thead>\n",
       "    <tr style=\"text-align: right;\">\n",
       "      <th></th>\n",
       "      <th>dateCrawled</th>\n",
       "      <th>name</th>\n",
       "      <th>seller</th>\n",
       "      <th>offerType</th>\n",
       "      <th>price</th>\n",
       "      <th>abtest</th>\n",
       "      <th>vehicleType</th>\n",
       "      <th>yearOfRegistration</th>\n",
       "      <th>gearbox</th>\n",
       "      <th>powerPS</th>\n",
       "      <th>...</th>\n",
       "      <th>monthOfRegistration</th>\n",
       "      <th>fuelType</th>\n",
       "      <th>brand</th>\n",
       "      <th>notRepairedDamage</th>\n",
       "      <th>dateCreated</th>\n",
       "      <th>nrOfPictures</th>\n",
       "      <th>postalCode</th>\n",
       "      <th>Lattitude</th>\n",
       "      <th>Longitude</th>\n",
       "      <th>lastSeen</th>\n",
       "    </tr>\n",
       "  </thead>\n",
       "  <tbody>\n",
       "    <tr>\n",
       "      <th>0</th>\n",
       "      <td>2016-03-19 16:52:13</td>\n",
       "      <td>Volkswagen_Golf_1.4_Special</td>\n",
       "      <td>privat</td>\n",
       "      <td>Angebot</td>\n",
       "      <td>2600</td>\n",
       "      <td>test</td>\n",
       "      <td>limousine</td>\n",
       "      <td>2003</td>\n",
       "      <td>manuell</td>\n",
       "      <td>75</td>\n",
       "      <td>...</td>\n",
       "      <td>4</td>\n",
       "      <td>benzin</td>\n",
       "      <td>volkswagen</td>\n",
       "      <td>nein</td>\n",
       "      <td>2016-03-19</td>\n",
       "      <td>0</td>\n",
       "      <td>52224</td>\n",
       "      <td>50.76670</td>\n",
       "      <td>6.23333</td>\n",
       "      <td>2016-03-19 16:52:13</td>\n",
       "    </tr>\n",
       "    <tr>\n",
       "      <th>1</th>\n",
       "      <td>2016-03-18 14:38:13</td>\n",
       "      <td>Volkswagen_Golf_1.4_Special_TÜV_Klimaautomatik_VW</td>\n",
       "      <td>privat</td>\n",
       "      <td>Angebot</td>\n",
       "      <td>2300</td>\n",
       "      <td>test</td>\n",
       "      <td>limousine</td>\n",
       "      <td>2003</td>\n",
       "      <td>manuell</td>\n",
       "      <td>75</td>\n",
       "      <td>...</td>\n",
       "      <td>4</td>\n",
       "      <td>benzin</td>\n",
       "      <td>volkswagen</td>\n",
       "      <td>nein</td>\n",
       "      <td>2016-03-18</td>\n",
       "      <td>0</td>\n",
       "      <td>48369</td>\n",
       "      <td>52.17520</td>\n",
       "      <td>7.63132</td>\n",
       "      <td>2016-03-21 07:16:28</td>\n",
       "    </tr>\n",
       "    <tr>\n",
       "      <th>2</th>\n",
       "      <td>2016-03-21 18:58:48</td>\n",
       "      <td>Volkswagen_Golf_1.4_Ocean</td>\n",
       "      <td>privat</td>\n",
       "      <td>Angebot</td>\n",
       "      <td>2750</td>\n",
       "      <td>test</td>\n",
       "      <td>limousine</td>\n",
       "      <td>2003</td>\n",
       "      <td>manuell</td>\n",
       "      <td>75</td>\n",
       "      <td>...</td>\n",
       "      <td>9</td>\n",
       "      <td>benzin</td>\n",
       "      <td>volkswagen</td>\n",
       "      <td>nein</td>\n",
       "      <td>2016-03-21</td>\n",
       "      <td>0</td>\n",
       "      <td>58730</td>\n",
       "      <td>51.47450</td>\n",
       "      <td>7.76699</td>\n",
       "      <td>2016-04-06 21:16:58</td>\n",
       "    </tr>\n",
       "    <tr>\n",
       "      <th>3</th>\n",
       "      <td>2016-03-23 23:52:06</td>\n",
       "      <td>Volkswagen_Golf_1.4_Ocean_Klima\"2.Hand\"VW_Sche...</td>\n",
       "      <td>privat</td>\n",
       "      <td>Angebot</td>\n",
       "      <td>2850</td>\n",
       "      <td>control</td>\n",
       "      <td>limousine</td>\n",
       "      <td>2003</td>\n",
       "      <td>manuell</td>\n",
       "      <td>75</td>\n",
       "      <td>...</td>\n",
       "      <td>10</td>\n",
       "      <td>benzin</td>\n",
       "      <td>volkswagen</td>\n",
       "      <td>nein</td>\n",
       "      <td>2016-03-23</td>\n",
       "      <td>0</td>\n",
       "      <td>47137</td>\n",
       "      <td>51.43511</td>\n",
       "      <td>6.76301</td>\n",
       "      <td>2016-04-06 19:15:47</td>\n",
       "    </tr>\n",
       "    <tr>\n",
       "      <th>4</th>\n",
       "      <td>2016-04-05 10:49:28</td>\n",
       "      <td>Volkswagen_Golf_1.4_Ocean</td>\n",
       "      <td>privat</td>\n",
       "      <td>Angebot</td>\n",
       "      <td>2700</td>\n",
       "      <td>control</td>\n",
       "      <td>limousine</td>\n",
       "      <td>2003</td>\n",
       "      <td>manuell</td>\n",
       "      <td>75</td>\n",
       "      <td>...</td>\n",
       "      <td>8</td>\n",
       "      <td>benzin</td>\n",
       "      <td>volkswagen</td>\n",
       "      <td>nein</td>\n",
       "      <td>2016-04-05</td>\n",
       "      <td>0</td>\n",
       "      <td>15754</td>\n",
       "      <td>52.28128</td>\n",
       "      <td>13.79809</td>\n",
       "      <td>2016-04-07 14:56:07</td>\n",
       "    </tr>\n",
       "  </tbody>\n",
       "</table>\n",
       "<p>5 rows × 22 columns</p>\n",
       "</div>"
      ],
      "text/plain": [
       "          dateCrawled                                               name  \\\n",
       "0 2016-03-19 16:52:13                        Volkswagen_Golf_1.4_Special   \n",
       "1 2016-03-18 14:38:13  Volkswagen_Golf_1.4_Special_TÜV_Klimaautomatik_VW   \n",
       "2 2016-03-21 18:58:48                          Volkswagen_Golf_1.4_Ocean   \n",
       "3 2016-03-23 23:52:06  Volkswagen_Golf_1.4_Ocean_Klima\"2.Hand\"VW_Sche...   \n",
       "4 2016-04-05 10:49:28                          Volkswagen_Golf_1.4_Ocean   \n",
       "\n",
       "   seller offerType  price   abtest vehicleType  yearOfRegistration  gearbox  \\\n",
       "0  privat   Angebot   2600     test   limousine                2003  manuell   \n",
       "1  privat   Angebot   2300     test   limousine                2003  manuell   \n",
       "2  privat   Angebot   2750     test   limousine                2003  manuell   \n",
       "3  privat   Angebot   2850  control   limousine                2003  manuell   \n",
       "4  privat   Angebot   2700  control   limousine                2003  manuell   \n",
       "\n",
       "   powerPS  ... monthOfRegistration  fuelType       brand notRepairedDamage  \\\n",
       "0       75  ...                   4    benzin  volkswagen              nein   \n",
       "1       75  ...                   4    benzin  volkswagen              nein   \n",
       "2       75  ...                   9    benzin  volkswagen              nein   \n",
       "3       75  ...                  10    benzin  volkswagen              nein   \n",
       "4       75  ...                   8    benzin  volkswagen              nein   \n",
       "\n",
       "  dateCreated nrOfPictures postalCode  Lattitude  Longitude  \\\n",
       "0  2016-03-19            0      52224   50.76670    6.23333   \n",
       "1  2016-03-18            0      48369   52.17520    7.63132   \n",
       "2  2016-03-21            0      58730   51.47450    7.76699   \n",
       "3  2016-03-23            0      47137   51.43511    6.76301   \n",
       "4  2016-04-05            0      15754   52.28128   13.79809   \n",
       "\n",
       "             lastSeen  \n",
       "0 2016-03-19 16:52:13  \n",
       "1 2016-03-21 07:16:28  \n",
       "2 2016-04-06 21:16:58  \n",
       "3 2016-04-06 19:15:47  \n",
       "4 2016-04-07 14:56:07  \n",
       "\n",
       "[5 rows x 22 columns]"
      ]
     },
     "execution_count": 3,
     "metadata": {},
     "output_type": "execute_result"
    }
   ],
   "source": [
    "#reading in the data \n",
    "df = pd.read_excel('/kaggle/input/ebay-sales/Onyx Data -DataDNA Dataset Challenge - eBay Used Car Sales -March 2024.xlsx')\n",
    "df.head()"
   ]
  },
  {
   "cell_type": "code",
   "execution_count": 4,
   "id": "dab2e65c",
   "metadata": {
    "execution": {
     "iopub.execute_input": "2024-03-18T08:59:54.356407Z",
     "iopub.status.busy": "2024-03-18T08:59:54.355840Z",
     "iopub.status.idle": "2024-03-18T08:59:54.559043Z",
     "shell.execute_reply": "2024-03-18T08:59:54.557816Z"
    },
    "papermill": {
     "duration": 0.212746,
     "end_time": "2024-03-18T08:59:54.561442",
     "exception": false,
     "start_time": "2024-03-18T08:59:54.348696",
     "status": "completed"
    },
    "tags": []
   },
   "outputs": [
    {
     "data": {
      "text/html": [
       "<div>\n",
       "<style scoped>\n",
       "    .dataframe tbody tr th:only-of-type {\n",
       "        vertical-align: middle;\n",
       "    }\n",
       "\n",
       "    .dataframe tbody tr th {\n",
       "        vertical-align: top;\n",
       "    }\n",
       "\n",
       "    .dataframe thead th {\n",
       "        text-align: right;\n",
       "    }\n",
       "</style>\n",
       "<table border=\"1\" class=\"dataframe\">\n",
       "  <thead>\n",
       "    <tr style=\"text-align: right;\">\n",
       "      <th></th>\n",
       "      <th>dateCrawled</th>\n",
       "      <th>price</th>\n",
       "      <th>yearOfRegistration</th>\n",
       "      <th>powerPS</th>\n",
       "      <th>kilometer</th>\n",
       "      <th>monthOfRegistration</th>\n",
       "      <th>dateCreated</th>\n",
       "      <th>nrOfPictures</th>\n",
       "      <th>postalCode</th>\n",
       "      <th>Lattitude</th>\n",
       "      <th>Longitude</th>\n",
       "      <th>lastSeen</th>\n",
       "    </tr>\n",
       "  </thead>\n",
       "  <tbody>\n",
       "    <tr>\n",
       "      <th>count</th>\n",
       "      <td>371404</td>\n",
       "      <td>3.714040e+05</td>\n",
       "      <td>371404.000000</td>\n",
       "      <td>371404.000000</td>\n",
       "      <td>371404.000000</td>\n",
       "      <td>371404.000000</td>\n",
       "      <td>371404</td>\n",
       "      <td>371404.0</td>\n",
       "      <td>371404.000000</td>\n",
       "      <td>371404.000000</td>\n",
       "      <td>371404.000000</td>\n",
       "      <td>371404</td>\n",
       "    </tr>\n",
       "    <tr>\n",
       "      <th>mean</th>\n",
       "      <td>2016-03-21 13:30:57.545963264</td>\n",
       "      <td>1.730085e+04</td>\n",
       "      <td>2004.578788</td>\n",
       "      <td>115.539528</td>\n",
       "      <td>125618.962101</td>\n",
       "      <td>5.734330</td>\n",
       "      <td>2016-03-20 19:43:41.477420800</td>\n",
       "      <td>0.0</td>\n",
       "      <td>50824.836728</td>\n",
       "      <td>50.897614</td>\n",
       "      <td>9.446463</td>\n",
       "      <td>2016-03-30 03:38:10.102618368</td>\n",
       "    </tr>\n",
       "    <tr>\n",
       "      <th>min</th>\n",
       "      <td>2016-03-05 14:06:22</td>\n",
       "      <td>0.000000e+00</td>\n",
       "      <td>1000.000000</td>\n",
       "      <td>0.000000</td>\n",
       "      <td>5000.000000</td>\n",
       "      <td>0.000000</td>\n",
       "      <td>2014-03-10 00:00:00</td>\n",
       "      <td>0.0</td>\n",
       "      <td>1067.000000</td>\n",
       "      <td>44.710200</td>\n",
       "      <td>-1.503300</td>\n",
       "      <td>2016-03-05 14:15:08</td>\n",
       "    </tr>\n",
       "    <tr>\n",
       "      <th>25%</th>\n",
       "      <td>2016-03-13 12:51:52</td>\n",
       "      <td>1.150000e+03</td>\n",
       "      <td>1999.000000</td>\n",
       "      <td>70.000000</td>\n",
       "      <td>125000.000000</td>\n",
       "      <td>3.000000</td>\n",
       "      <td>2016-03-13 00:00:00</td>\n",
       "      <td>0.0</td>\n",
       "      <td>30459.000000</td>\n",
       "      <td>49.481100</td>\n",
       "      <td>7.733330</td>\n",
       "      <td>2016-03-23 11:32:10.500000</td>\n",
       "    </tr>\n",
       "    <tr>\n",
       "      <th>50%</th>\n",
       "      <td>2016-03-21 18:36:30</td>\n",
       "      <td>2.950000e+03</td>\n",
       "      <td>2003.000000</td>\n",
       "      <td>105.000000</td>\n",
       "      <td>150000.000000</td>\n",
       "      <td>6.000000</td>\n",
       "      <td>2016-03-21 00:00:00</td>\n",
       "      <td>0.0</td>\n",
       "      <td>49610.000000</td>\n",
       "      <td>51.050000</td>\n",
       "      <td>9.055000</td>\n",
       "      <td>2016-04-03 23:17:33</td>\n",
       "    </tr>\n",
       "    <tr>\n",
       "      <th>75%</th>\n",
       "      <td>2016-03-29 14:49:28.249999872</td>\n",
       "      <td>7.200000e+03</td>\n",
       "      <td>2008.000000</td>\n",
       "      <td>150.000000</td>\n",
       "      <td>150000.000000</td>\n",
       "      <td>9.000000</td>\n",
       "      <td>2016-03-29 00:00:00</td>\n",
       "      <td>0.0</td>\n",
       "      <td>71549.000000</td>\n",
       "      <td>52.203580</td>\n",
       "      <td>10.885077</td>\n",
       "      <td>2016-04-06 10:45:03</td>\n",
       "    </tr>\n",
       "    <tr>\n",
       "      <th>max</th>\n",
       "      <td>2016-04-07 14:36:58</td>\n",
       "      <td>2.147484e+09</td>\n",
       "      <td>9999.000000</td>\n",
       "      <td>20000.000000</td>\n",
       "      <td>150000.000000</td>\n",
       "      <td>12.000000</td>\n",
       "      <td>2016-04-07 00:00:00</td>\n",
       "      <td>0.0</td>\n",
       "      <td>99998.000000</td>\n",
       "      <td>55.018663</td>\n",
       "      <td>14.970560</td>\n",
       "      <td>2016-04-07 14:58:51</td>\n",
       "    </tr>\n",
       "    <tr>\n",
       "      <th>std</th>\n",
       "      <td>NaN</td>\n",
       "      <td>3.588553e+06</td>\n",
       "      <td>92.881853</td>\n",
       "      <td>191.786025</td>\n",
       "      <td>40111.605815</td>\n",
       "      <td>3.712461</td>\n",
       "      <td>NaN</td>\n",
       "      <td>0.0</td>\n",
       "      <td>25799.258996</td>\n",
       "      <td>1.706477</td>\n",
       "      <td>2.076794</td>\n",
       "      <td>NaN</td>\n",
       "    </tr>\n",
       "  </tbody>\n",
       "</table>\n",
       "</div>"
      ],
      "text/plain": [
       "                         dateCrawled         price  yearOfRegistration  \\\n",
       "count                         371404  3.714040e+05       371404.000000   \n",
       "mean   2016-03-21 13:30:57.545963264  1.730085e+04         2004.578788   \n",
       "min              2016-03-05 14:06:22  0.000000e+00         1000.000000   \n",
       "25%              2016-03-13 12:51:52  1.150000e+03         1999.000000   \n",
       "50%              2016-03-21 18:36:30  2.950000e+03         2003.000000   \n",
       "75%    2016-03-29 14:49:28.249999872  7.200000e+03         2008.000000   \n",
       "max              2016-04-07 14:36:58  2.147484e+09         9999.000000   \n",
       "std                              NaN  3.588553e+06           92.881853   \n",
       "\n",
       "             powerPS      kilometer  monthOfRegistration  \\\n",
       "count  371404.000000  371404.000000        371404.000000   \n",
       "mean      115.539528  125618.962101             5.734330   \n",
       "min         0.000000    5000.000000             0.000000   \n",
       "25%        70.000000  125000.000000             3.000000   \n",
       "50%       105.000000  150000.000000             6.000000   \n",
       "75%       150.000000  150000.000000             9.000000   \n",
       "max     20000.000000  150000.000000            12.000000   \n",
       "std       191.786025   40111.605815             3.712461   \n",
       "\n",
       "                         dateCreated  nrOfPictures     postalCode  \\\n",
       "count                         371404      371404.0  371404.000000   \n",
       "mean   2016-03-20 19:43:41.477420800           0.0   50824.836728   \n",
       "min              2014-03-10 00:00:00           0.0    1067.000000   \n",
       "25%              2016-03-13 00:00:00           0.0   30459.000000   \n",
       "50%              2016-03-21 00:00:00           0.0   49610.000000   \n",
       "75%              2016-03-29 00:00:00           0.0   71549.000000   \n",
       "max              2016-04-07 00:00:00           0.0   99998.000000   \n",
       "std                              NaN           0.0   25799.258996   \n",
       "\n",
       "           Lattitude      Longitude                       lastSeen  \n",
       "count  371404.000000  371404.000000                         371404  \n",
       "mean       50.897614       9.446463  2016-03-30 03:38:10.102618368  \n",
       "min        44.710200      -1.503300            2016-03-05 14:15:08  \n",
       "25%        49.481100       7.733330     2016-03-23 11:32:10.500000  \n",
       "50%        51.050000       9.055000            2016-04-03 23:17:33  \n",
       "75%        52.203580      10.885077            2016-04-06 10:45:03  \n",
       "max        55.018663      14.970560            2016-04-07 14:58:51  \n",
       "std         1.706477       2.076794                            NaN  "
      ]
     },
     "execution_count": 4,
     "metadata": {},
     "output_type": "execute_result"
    }
   ],
   "source": [
    "#gaining more data insight\n",
    "df.describe()"
   ]
  },
  {
   "cell_type": "code",
   "execution_count": 5,
   "id": "f89fcb55",
   "metadata": {
    "execution": {
     "iopub.execute_input": "2024-03-18T08:59:54.576537Z",
     "iopub.status.busy": "2024-03-18T08:59:54.576130Z",
     "iopub.status.idle": "2024-03-18T08:59:54.935990Z",
     "shell.execute_reply": "2024-03-18T08:59:54.934585Z"
    },
    "papermill": {
     "duration": 0.370916,
     "end_time": "2024-03-18T08:59:54.938718",
     "exception": false,
     "start_time": "2024-03-18T08:59:54.567802",
     "status": "completed"
    },
    "tags": []
   },
   "outputs": [
    {
     "data": {
      "text/plain": [
       "<Axes: >"
      ]
     },
     "execution_count": 5,
     "metadata": {},
     "output_type": "execute_result"
    },
    {
     "data": {
      "image/png": "[encoded data removed]",
      "text/plain": [
       "<Figure size 640x480 with 1 Axes>"
      ]
     },
     "metadata": {},
     "output_type": "display_data"
    }
   ],
   "source": [
    "#determining registration year incosistencies\n",
    "df['yearOfRegistration'].plot()"
   ]
  },
  {
   "cell_type": "code",
   "execution_count": 6,
   "id": "e38b178c",
   "metadata": {
    "execution": {
     "iopub.execute_input": "2024-03-18T08:59:54.954255Z",
     "iopub.status.busy": "2024-03-18T08:59:54.953819Z",
     "iopub.status.idle": "2024-03-18T08:59:54.973221Z",
     "shell.execute_reply": "2024-03-18T08:59:54.971940Z"
    },
    "papermill": {
     "duration": 0.030479,
     "end_time": "2024-03-18T08:59:54.975956",
     "exception": false,
     "start_time": "2024-03-18T08:59:54.945477",
     "status": "completed"
    },
    "tags": []
   },
   "outputs": [
    {
     "data": {
      "text/plain": [
       "yearOfRegistration\n",
       "1911    1\n",
       "4100    1\n",
       "1255    1\n",
       "3800    1\n",
       "1919    1\n",
       "7777    1\n",
       "5600    1\n",
       "1602    1\n",
       "8500    1\n",
       "5900    1\n",
       "2200    1\n",
       "7100    1\n",
       "1925    1\n",
       "1915    1\n",
       "4800    1\n",
       "Name: count, dtype: int64"
      ]
     },
     "execution_count": 6,
     "metadata": {},
     "output_type": "execute_result"
    }
   ],
   "source": [
    "df['yearOfRegistration'].value_counts(ascending=True).head(15)"
   ]
  },
  {
   "cell_type": "code",
   "execution_count": 7,
   "id": "5b6dd531",
   "metadata": {
    "execution": {
     "iopub.execute_input": "2024-03-18T08:59:54.992471Z",
     "iopub.status.busy": "2024-03-18T08:59:54.992044Z",
     "iopub.status.idle": "2024-03-18T08:59:55.009968Z",
     "shell.execute_reply": "2024-03-18T08:59:55.008595Z"
    },
    "papermill": {
     "duration": 0.030786,
     "end_time": "2024-03-18T08:59:55.013905",
     "exception": false,
     "start_time": "2024-03-18T08:59:54.983119",
     "status": "completed"
    },
    "tags": []
   },
   "outputs": [
    {
     "data": {
      "text/plain": [
       "yearOfRegistration\n",
       "9999                  27\n",
       "5000                  18\n",
       "3000                   7\n",
       "6000                   6\n",
       "9000                   5\n",
       "2500                   4\n",
       "7000                   4\n",
       "4000                   3\n",
       "8888                   2\n",
       "7500                   2\n",
       "2800                   2\n",
       "2222                   2\n",
       "4500                   2\n",
       "5911                   2\n",
       "8000                   2\n",
       "5555                   2\n",
       "9229                   1\n",
       "7800                   1\n",
       "7777                   1\n",
       "9996                   1\n",
       "9450                   1\n",
       "8200                   1\n",
       "8455                   1\n",
       "8500                   1\n",
       "7100                   1\n",
       "2066                   1\n",
       "6500                   1\n",
       "6200                   1\n",
       "2200                   1\n",
       "5600                   1\n",
       "5300                   1\n",
       "4800                   1\n",
       "4100                   1\n",
       "3800                   1\n",
       "3700                   1\n",
       "3500                   1\n",
       "3200                   1\n",
       "2900                   1\n",
       "2290                   1\n",
       "5900                   1\n",
       "Name: count, dtype: int64"
      ]
     },
     "execution_count": 7,
     "metadata": {},
     "output_type": "execute_result"
    }
   ],
   "source": [
    "#identyfying rows with year error input\n",
    "sus1 = df.loc[df['yearOfRegistration'] > 2023]\n",
    "sus1[['yearOfRegistration']].sort_values('yearOfRegistration',axis=0,ascending=True).value_counts()\n",
    "\n"
   ]
  },
  {
   "cell_type": "code",
   "execution_count": 8,
   "id": "73113213",
   "metadata": {
    "execution": {
     "iopub.execute_input": "2024-03-18T08:59:55.031023Z",
     "iopub.status.busy": "2024-03-18T08:59:55.030215Z",
     "iopub.status.idle": "2024-03-18T08:59:55.203139Z",
     "shell.execute_reply": "2024-03-18T08:59:55.201946Z"
    },
    "papermill": {
     "duration": 0.184538,
     "end_time": "2024-03-18T08:59:55.205843",
     "exception": false,
     "start_time": "2024-03-18T08:59:55.021305",
     "status": "completed"
    },
    "tags": []
   },
   "outputs": [
    {
     "data": {
      "text/plain": [
       "yearOfRegistration\n",
       "1920    1\n",
       "1919    1\n",
       "1925    1\n",
       "1915    1\n",
       "1911    1\n",
       "1946    2\n",
       "1928    2\n",
       "1940    2\n",
       "1927    2\n",
       "1944    2\n",
       "1923    3\n",
       "1942    3\n",
       "1949    3\n",
       "1941    4\n",
       "1931    4\n",
       "Name: count, dtype: int64"
      ]
     },
     "execution_count": 8,
     "metadata": {},
     "output_type": "execute_result"
    }
   ],
   "source": [
    "#removing rows with  <2023 year errors, examining <1900 years\n",
    "\n",
    "#removing <2023 data \n",
    "df1 = df[~(df['yearOfRegistration'] > 2023)]\n",
    "\n",
    "#removing >1900 data \n",
    "df1 = df1[~(df1['yearOfRegistration'] < 1900)]\n",
    "df1['yearOfRegistration'].value_counts(ascending=True).head(15)"
   ]
  },
  {
   "cell_type": "code",
   "execution_count": 9,
   "id": "686f9e3e",
   "metadata": {
    "execution": {
     "iopub.execute_input": "2024-03-18T08:59:55.222470Z",
     "iopub.status.busy": "2024-03-18T08:59:55.222049Z",
     "iopub.status.idle": "2024-03-18T08:59:55.351364Z",
     "shell.execute_reply": "2024-03-18T08:59:55.349664Z"
    },
    "papermill": {
     "duration": 0.140731,
     "end_time": "2024-03-18T08:59:55.354072",
     "exception": false,
     "start_time": "2024-03-18T08:59:55.213341",
     "status": "completed"
    },
    "tags": []
   },
   "outputs": [
    {
     "data": {
      "text/plain": [
       "0     sonstige_autos\n",
       "1     sonstige_autos\n",
       "2     sonstige_autos\n",
       "3               ford\n",
       "4     sonstige_autos\n",
       "5            citroen\n",
       "6     sonstige_autos\n",
       "7               ford\n",
       "8               ford\n",
       "9                bmw\n",
       "10              ford\n",
       "11              ford\n",
       "12              ford\n",
       "13    sonstige_autos\n",
       "14     mercedes_benz\n",
       "15              opel\n",
       "16              fiat\n",
       "17    sonstige_autos\n",
       "18    sonstige_autos\n",
       "19    sonstige_autos\n",
       "20              ford\n",
       "21              jeep\n",
       "22              jeep\n",
       "23        volkswagen\n",
       "24    sonstige_autos\n",
       "25        volkswagen\n",
       "26    sonstige_autos\n",
       "27    sonstige_autos\n",
       "28    sonstige_autos\n",
       "29          chrysler\n",
       "Name: brand, dtype: object"
      ]
     },
     "execution_count": 9,
     "metadata": {},
     "output_type": "execute_result"
    }
   ],
   "source": [
    "df2 = df1[['brand','yearOfRegistration']]\n",
    "\n",
    "df3 = (df2.groupby(['yearOfRegistration'])['brand']\n",
    "       .apply(lambda x: x.value_counts().index[0])\n",
    "      .reset_index()\n",
    "      )\n",
    "\n",
    "df3['brand'].head(30)\n",
    "\n",
    "\n"
   ]
  },
  {
   "cell_type": "code",
   "execution_count": 10,
   "id": "e41fde92",
   "metadata": {
    "execution": {
     "iopub.execute_input": "2024-03-18T08:59:55.371141Z",
     "iopub.status.busy": "2024-03-18T08:59:55.370684Z",
     "iopub.status.idle": "2024-03-18T08:59:55.408845Z",
     "shell.execute_reply": "2024-03-18T08:59:55.407581Z"
    },
    "papermill": {
     "duration": 0.049951,
     "end_time": "2024-03-18T08:59:55.411622",
     "exception": false,
     "start_time": "2024-03-18T08:59:55.361671",
     "status": "completed"
    },
    "tags": []
   },
   "outputs": [],
   "source": [
    "df3['yearOfRegistration']\n",
    "df3['Sales_volume'] = df2.groupby(['yearOfRegistration'])['brand']"
   ]
  },
  {
   "cell_type": "code",
   "execution_count": null,
   "id": "7f35aec2",
   "metadata": {
    "execution": {
     "iopub.execute_input": "2024-03-18T07:13:04.866102Z",
     "iopub.status.busy": "2024-03-18T07:13:04.865734Z",
     "iopub.status.idle": "2024-03-18T07:13:07.083577Z",
     "shell.execute_reply": "2024-03-18T07:13:07.081656Z",
     "shell.execute_reply.started": "2024-03-18T07:13:04.866072Z"
    },
    "papermill": {
     "duration": 0.00754,
     "end_time": "2024-03-18T08:59:55.427374",
     "exception": false,
     "start_time": "2024-03-18T08:59:55.419834",
     "status": "completed"
    },
    "tags": []
   },
   "outputs": [],
   "source": []
  },
  {
   "cell_type": "code",
   "execution_count": null,
   "id": "9d22db73",
   "metadata": {
    "execution": {
     "iopub.execute_input": "2024-03-18T08:21:21.983331Z",
     "iopub.status.busy": "2024-03-18T08:21:21.982912Z",
     "iopub.status.idle": "2024-03-18T08:21:22.498011Z",
     "shell.execute_reply": "2024-03-18T08:21:22.496819Z",
     "shell.execute_reply.started": "2024-03-18T08:21:21.983300Z"
    },
    "papermill": {
     "duration": 0.007331,
     "end_time": "2024-03-18T08:59:55.443374",
     "exception": false,
     "start_time": "2024-03-18T08:59:55.436043",
     "status": "completed"
    },
    "tags": []
   },
   "outputs": [],
   "source": []
  },
  {
   "cell_type": "code",
   "execution_count": null,
   "id": "fe1718e4",
   "metadata": {
    "papermill": {
     "duration": 0.007584,
     "end_time": "2024-03-18T08:59:55.461097",
     "exception": false,
     "start_time": "2024-03-18T08:59:55.453513",
     "status": "completed"
    },
    "tags": []
   },
   "outputs": [],
   "source": []
  }
 ],
 "metadata": {
  "kaggle": {
   "accelerator": "none",
   "dataSources": [
    {
     "datasetId": 4612040,
     "sourceId": 7861956,
     "sourceType": "datasetVersion"
    }
   ],
   "dockerImageVersionId": 30664,
   "isGpuEnabled": false,
   "isInternetEnabled": true,
   "language": "python",
   "sourceType": "notebook"
  },
  "kernelspec": {
   "display_name": "Python 3",
   "language": "python",
   "name": "python3"
  },
  "language_info": {
   "codemirror_mode": {
    "name": "ipython",
    "version": 3
   },
   "file_extension": ".py",
   "mimetype": "text/x-python",
   "name": "python",
   "nbconvert_exporter": "python",
   "pygments_lexer": "ipython3",
   "version": "3.10.13"
  },
  "papermill": {
   "default_parameters": {},
   "duration": 204.186072,
   "end_time": "2024-03-18T08:59:56.093008",
   "environment_variables": {},
   "exception": null,
   "input_path": "__notebook__.ipynb",
   "output_path": "__notebook__.ipynb",
   "parameters": {},
   "start_time": "2024-03-18T08:56:31.906936",
   "version": "2.5.0"
  }
 },
 "nbformat": 4,
 "nbformat_minor": 5
}
